{
 "cells": [
  {
   "cell_type": "code",
   "execution_count": 11,
   "metadata": {},
   "outputs": [],
   "source": [
    "import csv\n",
    "import os\n",
    "import json\n",
    "\n",
    "CSV_DIR = \"./SHOEZAM_DATA\"\n",
    "CSV_KEYS = ['UUID', 'LINK', 'MODEL', 'CATEGORY', 'BRAND']\n",
    "\n",
    "TRAINING_DATA_OUT_PATH = 'training-data.json'\n",
    "\n",
    "training_data = []\n",
    "\n",
    "for (dirpath, dirnames, filenames) in os.walk(CSV_DIR):\n",
    "    for filename in filenames:\n",
    "        path = os.path.join(dirpath, filename)\n",
    "        \n",
    "        with open(path, 'r') as f:\n",
    "            for row in csv.DictReader(f):\n",
    "                training_data.append({\n",
    "                    'uuid': row['UUID'],\n",
    "                    'product_link': row['LINK'],\n",
    "                    'model': row['MODEL'],\n",
    "                    'category': row['CATEGORY'],\n",
    "                    'brand': row['BRAND']\n",
    "                })\n",
    "                \n",
    "with open(TRAINING_DATA_OUT_PATH, 'w') as f:\n",
    "    json.dump(training_data, f)"
   ]
  },
  {
   "cell_type": "code",
   "execution_count": null,
   "metadata": {},
   "outputs": [],
   "source": []
  }
 ],
 "metadata": {
  "kernelspec": {
   "display_name": "Shoezam Pipenv",
   "language": "python",
   "name": "shoezam-kernel"
  },
  "language_info": {
   "codemirror_mode": {
    "name": "ipython",
    "version": 3
   },
   "file_extension": ".py",
   "mimetype": "text/x-python",
   "name": "python",
   "nbconvert_exporter": "python",
   "pygments_lexer": "ipython3",
   "version": "3.6.6"
  }
 },
 "nbformat": 4,
 "nbformat_minor": 2
}
